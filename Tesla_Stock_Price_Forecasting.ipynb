{
 "cells": [
  {
   "cell_type": "markdown",
   "id": "10e219ae-220e-4140-b022-044b620460e8",
   "metadata": {},
   "source": [
    "<center><img src=\"https://image-cdn.hypb.st/https%3A%2F%2Fhypebeast.com%2Fimage%2F2022%2F06%2Ftesla-stock-split-three-way-price-reset-filing-000.jpg?w=960&cbr=1&q=90&fit=max\" width=\"400\" height=\"400\"></center>"
   ]
  },
  {
   "cell_type": "markdown",
   "id": "a79ae947-d16d-4fc9-812b-e57f8cdc10b0",
   "metadata": {},
   "source": [
    "<h1 align=\"center\">TESLA stock price prediction (2017-2022)</h1>\n",
    "<p style=\"text-align:center;\">Historical Data for Tesla Inc. (5 Years)</p>"
   ]
  },
  {
   "cell_type": "markdown",
   "id": "fb0b6bc2-a4c3-4ea6-8f50-5b20ead2b414",
   "metadata": {
    "tags": []
   },
   "source": [
    "## About Dataset\n",
    "[Tesla](https://www.tesla.com/), Inc. designs, develops, manufactures, leases, and sells electric vehicles, and energy generation and storage systems in the United States, China, and internationally. The company operates in two segments, Automotive, and Energy Generation and Storage. The Automotive segment offers electric vehicles, as well as sells automotive regulatory credits. It provides sedans and sport utility vehicles through direct and used vehicle sales, a network of Tesla Superchargers, and in-app upgrades; and purchase financing and leasing services. This segment is also involved in the provision of non-warranty after-sales vehicle services, sale of used vehicles, retail merchandise, and vehicle insurance, as well as sale of products to third party customers; services for electric vehicles through its company-owned service locations, and Tesla mobile service technicians; and vehicle limited warranties and extended service plans. The Energy Generation and Storage segment engages in the design, manufacture, installation, sale, and leasing of solar energy generation and energy storage products, and related services to residential, commercial, and industrial customers and utilities through its website, stores, and galleries, as well as through a network of channel partners."
   ]
  },
  {
   "cell_type": "markdown",
   "id": "d9d7ad36-4a6f-42d1-bd81-3b67a3440023",
   "metadata": {
    "tags": []
   },
   "source": [
    "## Imports"
   ]
  },
  {
   "cell_type": "code",
   "execution_count": 1,
   "id": "9bb8ba8b-cb19-478c-b635-6254d13f2472",
   "metadata": {},
   "outputs": [
    {
     "name": "stderr",
     "output_type": "stream",
     "text": [
      "<frozen importlib._bootstrap>:241: RuntimeWarning: scipy._lib.messagestream.MessageStream size changed, may indicate binary incompatibility. Expected 56 from C header, got 64 from PyObject\n"
     ]
    }
   ],
   "source": [
    "import warnings\n",
    "\n",
    "import matplotlib.pyplot as plt\n",
    "import numpy as np\n",
    "import pandas as pd\n",
    "import seaborn as sn\n",
    "import torch\n",
    "import torch.nn as nn\n",
    "import torch.nn.functional as F\n",
    "import torchvision\n",
    "from torch.utils.data import DataLoader, Dataset\n",
    "from torchvision import datasets, transforms\n",
    "\n",
    "warnings.filterwarnings(\"ignore\")"
   ]
  },
  {
   "cell_type": "markdown",
   "id": "334fba4a-6905-4dfc-9571-94f76546a2c0",
   "metadata": {},
   "source": [
    "## Import dataset"
   ]
  },
  {
   "cell_type": "code",
   "execution_count": 2,
   "id": "bdbd5105-a037-40ad-8674-5c280e90fce3",
   "metadata": {},
   "outputs": [
    {
     "data": {
      "text/html": [
       "<div>\n",
       "<style scoped>\n",
       "    .dataframe tbody tr th:only-of-type {\n",
       "        vertical-align: middle;\n",
       "    }\n",
       "\n",
       "    .dataframe tbody tr th {\n",
       "        vertical-align: top;\n",
       "    }\n",
       "\n",
       "    .dataframe thead th {\n",
       "        text-align: right;\n",
       "    }\n",
       "</style>\n",
       "<table border=\"1\" class=\"dataframe\">\n",
       "  <thead>\n",
       "    <tr style=\"text-align: right;\">\n",
       "      <th></th>\n",
       "      <th>Open</th>\n",
       "      <th>High</th>\n",
       "      <th>Low</th>\n",
       "      <th>Close</th>\n",
       "      <th>Adj Close</th>\n",
       "      <th>Volume</th>\n",
       "    </tr>\n",
       "    <tr>\n",
       "      <th>Date</th>\n",
       "      <th></th>\n",
       "      <th></th>\n",
       "      <th></th>\n",
       "      <th></th>\n",
       "      <th></th>\n",
       "      <th></th>\n",
       "    </tr>\n",
       "  </thead>\n",
       "  <tbody>\n",
       "    <tr>\n",
       "      <th>2017-09-18</th>\n",
       "      <td>25.350000</td>\n",
       "      <td>25.974001</td>\n",
       "      <td>25.178667</td>\n",
       "      <td>25.666668</td>\n",
       "      <td>25.666668</td>\n",
       "      <td>107820000</td>\n",
       "    </tr>\n",
       "    <tr>\n",
       "      <th>2017-09-19</th>\n",
       "      <td>25.333332</td>\n",
       "      <td>25.492666</td>\n",
       "      <td>24.904667</td>\n",
       "      <td>25.006666</td>\n",
       "      <td>25.006666</td>\n",
       "      <td>96778500</td>\n",
       "    </tr>\n",
       "    <tr>\n",
       "      <th>2017-09-20</th>\n",
       "      <td>24.866667</td>\n",
       "      <td>25.216667</td>\n",
       "      <td>24.738001</td>\n",
       "      <td>24.927334</td>\n",
       "      <td>24.927334</td>\n",
       "      <td>73786500</td>\n",
       "    </tr>\n",
       "    <tr>\n",
       "      <th>2017-09-21</th>\n",
       "      <td>24.993334</td>\n",
       "      <td>25.122000</td>\n",
       "      <td>24.300667</td>\n",
       "      <td>24.431999</td>\n",
       "      <td>24.431999</td>\n",
       "      <td>69273000</td>\n",
       "    </tr>\n",
       "    <tr>\n",
       "      <th>2017-09-22</th>\n",
       "      <td>24.432667</td>\n",
       "      <td>24.660000</td>\n",
       "      <td>23.392000</td>\n",
       "      <td>23.406000</td>\n",
       "      <td>23.406000</td>\n",
       "      <td>122391000</td>\n",
       "    </tr>\n",
       "    <tr>\n",
       "      <th>...</th>\n",
       "      <td>...</td>\n",
       "      <td>...</td>\n",
       "      <td>...</td>\n",
       "      <td>...</td>\n",
       "      <td>...</td>\n",
       "      <td>...</td>\n",
       "    </tr>\n",
       "    <tr>\n",
       "      <th>2022-09-12</th>\n",
       "      <td>300.720001</td>\n",
       "      <td>305.489990</td>\n",
       "      <td>300.399994</td>\n",
       "      <td>304.420013</td>\n",
       "      <td>304.420013</td>\n",
       "      <td>48674600</td>\n",
       "    </tr>\n",
       "    <tr>\n",
       "      <th>2022-09-13</th>\n",
       "      <td>292.899994</td>\n",
       "      <td>297.399994</td>\n",
       "      <td>290.399994</td>\n",
       "      <td>292.130005</td>\n",
       "      <td>292.130005</td>\n",
       "      <td>68229600</td>\n",
       "    </tr>\n",
       "    <tr>\n",
       "      <th>2022-09-14</th>\n",
       "      <td>292.239990</td>\n",
       "      <td>306.000000</td>\n",
       "      <td>291.640015</td>\n",
       "      <td>302.609985</td>\n",
       "      <td>302.609985</td>\n",
       "      <td>72628700</td>\n",
       "    </tr>\n",
       "    <tr>\n",
       "      <th>2022-09-15</th>\n",
       "      <td>301.829987</td>\n",
       "      <td>309.119995</td>\n",
       "      <td>300.720001</td>\n",
       "      <td>303.750000</td>\n",
       "      <td>303.750000</td>\n",
       "      <td>64795500</td>\n",
       "    </tr>\n",
       "    <tr>\n",
       "      <th>2022-09-16</th>\n",
       "      <td>299.609985</td>\n",
       "      <td>303.709991</td>\n",
       "      <td>295.600006</td>\n",
       "      <td>303.350006</td>\n",
       "      <td>303.350006</td>\n",
       "      <td>86949500</td>\n",
       "    </tr>\n",
       "  </tbody>\n",
       "</table>\n",
       "<p>1259 rows × 6 columns</p>\n",
       "</div>"
      ],
      "text/plain": [
       "                  Open        High         Low       Close   Adj Close  \\\n",
       "Date                                                                     \n",
       "2017-09-18   25.350000   25.974001   25.178667   25.666668   25.666668   \n",
       "2017-09-19   25.333332   25.492666   24.904667   25.006666   25.006666   \n",
       "2017-09-20   24.866667   25.216667   24.738001   24.927334   24.927334   \n",
       "2017-09-21   24.993334   25.122000   24.300667   24.431999   24.431999   \n",
       "2017-09-22   24.432667   24.660000   23.392000   23.406000   23.406000   \n",
       "...                ...         ...         ...         ...         ...   \n",
       "2022-09-12  300.720001  305.489990  300.399994  304.420013  304.420013   \n",
       "2022-09-13  292.899994  297.399994  290.399994  292.130005  292.130005   \n",
       "2022-09-14  292.239990  306.000000  291.640015  302.609985  302.609985   \n",
       "2022-09-15  301.829987  309.119995  300.720001  303.750000  303.750000   \n",
       "2022-09-16  299.609985  303.709991  295.600006  303.350006  303.350006   \n",
       "\n",
       "               Volume  \n",
       "Date                   \n",
       "2017-09-18  107820000  \n",
       "2017-09-19   96778500  \n",
       "2017-09-20   73786500  \n",
       "2017-09-21   69273000  \n",
       "2017-09-22  122391000  \n",
       "...               ...  \n",
       "2022-09-12   48674600  \n",
       "2022-09-13   68229600  \n",
       "2022-09-14   72628700  \n",
       "2022-09-15   64795500  \n",
       "2022-09-16   86949500  \n",
       "\n",
       "[1259 rows x 6 columns]"
      ]
     },
     "execution_count": 2,
     "metadata": {},
     "output_type": "execute_result"
    }
   ],
   "source": [
    "data = pd.read_csv(\"TSLA.csv\", index_col=\"Date\")\n",
    "data"
   ]
  },
  {
   "cell_type": "markdown",
   "id": "ae7affce-02d2-4ff2-a321-ff5b01e19c63",
   "metadata": {},
   "source": [
    "## Create the target variable"
   ]
  },
  {
   "cell_type": "code",
   "execution_count": 3,
   "id": "d436322b-2c7b-45ab-b360-d2e55eda0e26",
   "metadata": {},
   "outputs": [],
   "source": [
    "target_feature = \"Adj Close\"\n",
    "features = list(data.columns.difference([target_feature]))\n",
    "\n",
    "forecast_lead = 15\n",
    "target = f\"{target_feature}_lead{forecast_lead}\"\n",
    "\n",
    "data[target] = data[target_feature].shift(-forecast_lead)\n",
    "data = data.iloc[:-forecast_lead]"
   ]
  },
  {
   "cell_type": "markdown",
   "id": "2d352b7e-f36d-4250-ac18-aee8d8537e6c",
   "metadata": {},
   "source": [
    "## Split train-test data"
   ]
  },
  {
   "cell_type": "code",
   "execution_count": 4,
   "id": "e73f4ae5-11ab-4062-b942-d030dc559456",
   "metadata": {},
   "outputs": [
    {
     "name": "stdout",
     "output_type": "stream",
     "text": [
      "Shape of train data: 995\n",
      "Shape of test data: 249\n"
     ]
    }
   ],
   "source": [
    "train_length = int(len(data) * 0.8)\n",
    "\n",
    "df_train, df_test = data[:train_length], data[train_length:]\n",
    "print(f\"Shape of train data: {len(df_train)}\")\n",
    "print(f\"Shape of test data: {len(df_test)}\")"
   ]
  },
  {
   "cell_type": "code",
   "execution_count": 5,
   "id": "995ca9e0-107d-4d53-886e-8044ff799578",
   "metadata": {},
   "outputs": [
    {
     "data": {
      "text/plain": [
       "(995, 7)"
      ]
     },
     "execution_count": 5,
     "metadata": {},
     "output_type": "execute_result"
    }
   ],
   "source": [
    "df_train.shape"
   ]
  },
  {
   "cell_type": "markdown",
   "id": "98291344-0e44-459c-a1a1-ab3dc6d4005b",
   "metadata": {},
   "source": [
    "## Standardize the features and target"
   ]
  },
  {
   "cell_type": "code",
   "execution_count": 6,
   "id": "daa29331-9a8f-4a6d-909b-ff36ce72d72f",
   "metadata": {
    "tags": []
   },
   "outputs": [],
   "source": [
    "target_mean = df_train[target].mean()\n",
    "target_stdev = df_train[target].std()\n",
    "\n",
    "for c in df_train.columns:\n",
    "    mean = df_train[c].mean()\n",
    "    stdev = df_train[c].std()\n",
    "\n",
    "    df_train[c] = (df_train[c] - mean) / stdev\n",
    "    df_test[c] = (df_test[c] - mean) / stdev"
   ]
  },
  {
   "cell_type": "code",
   "execution_count": 7,
   "id": "46a67e78-c821-4610-86c2-fc1ed0bd14bc",
   "metadata": {},
   "outputs": [
    {
     "name": "stdout",
     "output_type": "stream",
     "text": [
      "<class 'pandas.core.frame.DataFrame'>\n",
      "Index: 1244 entries, 2017-09-18 to 2022-08-25\n",
      "Data columns (total 7 columns):\n",
      " #   Column            Non-Null Count  Dtype  \n",
      "---  ------            --------------  -----  \n",
      " 0   Open              1244 non-null   float64\n",
      " 1   High              1244 non-null   float64\n",
      " 2   Low               1244 non-null   float64\n",
      " 3   Close             1244 non-null   float64\n",
      " 4   Adj Close         1244 non-null   float64\n",
      " 5   Volume            1244 non-null   int64  \n",
      " 6   Adj Close_lead15  1244 non-null   float64\n",
      "dtypes: float64(6), int64(1)\n",
      "memory usage: 77.8+ KB\n"
     ]
    }
   ],
   "source": [
    "data.info()"
   ]
  },
  {
   "cell_type": "code",
   "execution_count": 8,
   "id": "b2b7a171-7ba2-44de-b340-7c4b3595ac16",
   "metadata": {
    "tags": []
   },
   "outputs": [
    {
     "data": {
      "text/html": [
       "<style type=\"text/css\">\n",
       "#T_f823b_row0_col0, #T_f823b_row0_col1, #T_f823b_row0_col2, #T_f823b_row0_col3, #T_f823b_row0_col4, #T_f823b_row0_col6, #T_f823b_row7_col5 {\n",
       "  background-color: #7f0000;\n",
       "  color: #f1f1f1;\n",
       "}\n",
       "#T_f823b_row0_col5, #T_f823b_row3_col0, #T_f823b_row3_col1, #T_f823b_row3_col2, #T_f823b_row3_col3, #T_f823b_row3_col4, #T_f823b_row3_col6 {\n",
       "  background-color: #fff7ec;\n",
       "  color: #000000;\n",
       "}\n",
       "#T_f823b_row1_col0, #T_f823b_row1_col1, #T_f823b_row1_col3, #T_f823b_row1_col4, #T_f823b_row1_col6, #T_f823b_row2_col0, #T_f823b_row2_col1, #T_f823b_row2_col3, #T_f823b_row2_col4, #T_f823b_row2_col6 {\n",
       "  background-color: #feedd3;\n",
       "  color: #000000;\n",
       "}\n",
       "#T_f823b_row1_col2, #T_f823b_row2_col2, #T_f823b_row4_col5 {\n",
       "  background-color: #feedd4;\n",
       "  color: #000000;\n",
       "}\n",
       "#T_f823b_row1_col5 {\n",
       "  background-color: #fee5c1;\n",
       "  color: #000000;\n",
       "}\n",
       "#T_f823b_row2_col5 {\n",
       "  background-color: #feebd0;\n",
       "  color: #000000;\n",
       "}\n",
       "#T_f823b_row3_col5 {\n",
       "  background-color: #fff3e3;\n",
       "  color: #000000;\n",
       "}\n",
       "#T_f823b_row4_col0, #T_f823b_row4_col1, #T_f823b_row4_col2, #T_f823b_row4_col3, #T_f823b_row4_col4, #T_f823b_row4_col6 {\n",
       "  background-color: #fff7eb;\n",
       "  color: #000000;\n",
       "}\n",
       "#T_f823b_row5_col0, #T_f823b_row5_col1, #T_f823b_row5_col2, #T_f823b_row5_col3, #T_f823b_row5_col4 {\n",
       "  background-color: #fff4e5;\n",
       "  color: #000000;\n",
       "}\n",
       "#T_f823b_row5_col5 {\n",
       "  background-color: #feeacc;\n",
       "  color: #000000;\n",
       "}\n",
       "#T_f823b_row5_col6 {\n",
       "  background-color: #fff4e4;\n",
       "  color: #000000;\n",
       "}\n",
       "#T_f823b_row6_col0, #T_f823b_row6_col3, #T_f823b_row6_col4 {\n",
       "  background-color: #fee0b7;\n",
       "  color: #000000;\n",
       "}\n",
       "#T_f823b_row6_col1, #T_f823b_row6_col6 {\n",
       "  background-color: #fedfb5;\n",
       "  color: #000000;\n",
       "}\n",
       "#T_f823b_row6_col2 {\n",
       "  background-color: #fee0b8;\n",
       "  color: #000000;\n",
       "}\n",
       "#T_f823b_row6_col5 {\n",
       "  background-color: #fee1b9;\n",
       "  color: #000000;\n",
       "}\n",
       "#T_f823b_row7_col0, #T_f823b_row7_col3, #T_f823b_row7_col4, #T_f823b_row7_col6 {\n",
       "  background-color: #fdc68f;\n",
       "  color: #000000;\n",
       "}\n",
       "#T_f823b_row7_col1 {\n",
       "  background-color: #fdc58e;\n",
       "  color: #000000;\n",
       "}\n",
       "#T_f823b_row7_col2 {\n",
       "  background-color: #fdc690;\n",
       "  color: #000000;\n",
       "}\n",
       "</style>\n",
       "<table id=\"T_f823b\">\n",
       "  <thead>\n",
       "    <tr>\n",
       "      <th class=\"blank level0\" >&nbsp;</th>\n",
       "      <th id=\"T_f823b_level0_col0\" class=\"col_heading level0 col0\" >Open</th>\n",
       "      <th id=\"T_f823b_level0_col1\" class=\"col_heading level0 col1\" >High</th>\n",
       "      <th id=\"T_f823b_level0_col2\" class=\"col_heading level0 col2\" >Low</th>\n",
       "      <th id=\"T_f823b_level0_col3\" class=\"col_heading level0 col3\" >Close</th>\n",
       "      <th id=\"T_f823b_level0_col4\" class=\"col_heading level0 col4\" >Adj Close</th>\n",
       "      <th id=\"T_f823b_level0_col5\" class=\"col_heading level0 col5\" >Volume</th>\n",
       "      <th id=\"T_f823b_level0_col6\" class=\"col_heading level0 col6\" >Adj Close_lead15</th>\n",
       "    </tr>\n",
       "  </thead>\n",
       "  <tbody>\n",
       "    <tr>\n",
       "      <th id=\"T_f823b_level0_row0\" class=\"row_heading level0 row0\" >count</th>\n",
       "      <td id=\"T_f823b_row0_col0\" class=\"data row0 col0\" >1244.000000</td>\n",
       "      <td id=\"T_f823b_row0_col1\" class=\"data row0 col1\" >1244.000000</td>\n",
       "      <td id=\"T_f823b_row0_col2\" class=\"data row0 col2\" >1244.000000</td>\n",
       "      <td id=\"T_f823b_row0_col3\" class=\"data row0 col3\" >1244.000000</td>\n",
       "      <td id=\"T_f823b_row0_col4\" class=\"data row0 col4\" >1244.000000</td>\n",
       "      <td id=\"T_f823b_row0_col5\" class=\"data row0 col5\" >1244.000000</td>\n",
       "      <td id=\"T_f823b_row0_col6\" class=\"data row0 col6\" >1244.000000</td>\n",
       "    </tr>\n",
       "    <tr>\n",
       "      <th id=\"T_f823b_level0_row1\" class=\"row_heading level0 row1\" >mean</th>\n",
       "      <td id=\"T_f823b_row1_col0\" class=\"data row1 col0\" >119.335657</td>\n",
       "      <td id=\"T_f823b_row1_col1\" class=\"data row1 col1\" >122.103065</td>\n",
       "      <td id=\"T_f823b_row1_col2\" class=\"data row1 col2\" >116.335259</td>\n",
       "      <td id=\"T_f823b_row1_col3\" class=\"data row1 col3\" >119.298130</td>\n",
       "      <td id=\"T_f823b_row1_col4\" class=\"data row1 col4\" >119.298130</td>\n",
       "      <td id=\"T_f823b_row1_col5\" class=\"data row1 col5\" >132903698.954984</td>\n",
       "      <td id=\"T_f823b_row1_col6\" class=\"data row1 col6\" >122.491231</td>\n",
       "    </tr>\n",
       "    <tr>\n",
       "      <th id=\"T_f823b_level0_row2\" class=\"row_heading level0 row2\" >std</th>\n",
       "      <td id=\"T_f823b_row2_col0\" class=\"data row2 col0\" >117.982776</td>\n",
       "      <td id=\"T_f823b_row2_col1\" class=\"data row2 col1\" >120.701147</td>\n",
       "      <td id=\"T_f823b_row2_col2\" class=\"data row2 col2\" >114.913842</td>\n",
       "      <td id=\"T_f823b_row2_col3\" class=\"data row2 col3\" >117.834712</td>\n",
       "      <td id=\"T_f823b_row2_col4\" class=\"data row2 col4\" >117.834712</td>\n",
       "      <td id=\"T_f823b_row2_col5\" class=\"data row2 col5\" >90417581.340920</td>\n",
       "      <td id=\"T_f823b_row2_col6\" class=\"data row2 col6\" >118.791202</td>\n",
       "    </tr>\n",
       "    <tr>\n",
       "      <th id=\"T_f823b_level0_row3\" class=\"row_heading level0 row3\" >min</th>\n",
       "      <td id=\"T_f823b_row3_col0\" class=\"data row3 col0\" >12.073333</td>\n",
       "      <td id=\"T_f823b_row3_col1\" class=\"data row3 col1\" >12.445333</td>\n",
       "      <td id=\"T_f823b_row3_col2\" class=\"data row3 col2\" >11.799333</td>\n",
       "      <td id=\"T_f823b_row3_col3\" class=\"data row3 col3\" >11.931333</td>\n",
       "      <td id=\"T_f823b_row3_col4\" class=\"data row3 col4\" >11.931333</td>\n",
       "      <td id=\"T_f823b_row3_col5\" class=\"data row3 col5\" >29401800.000000</td>\n",
       "      <td id=\"T_f823b_row3_col6\" class=\"data row3 col6\" >11.931333</td>\n",
       "    </tr>\n",
       "    <tr>\n",
       "      <th id=\"T_f823b_level0_row4\" class=\"row_heading level0 row4\" >25%</th>\n",
       "      <td id=\"T_f823b_row4_col0\" class=\"data row4 col0\" >20.782666</td>\n",
       "      <td id=\"T_f823b_row4_col1\" class=\"data row4 col1\" >21.094000</td>\n",
       "      <td id=\"T_f823b_row4_col2\" class=\"data row4 col2\" >20.270500</td>\n",
       "      <td id=\"T_f823b_row4_col3\" class=\"data row4 col3\" >20.742999</td>\n",
       "      <td id=\"T_f823b_row4_col4\" class=\"data row4 col4\" >20.742999</td>\n",
       "      <td id=\"T_f823b_row4_col5\" class=\"data row4 col5\" >76053225.000000</td>\n",
       "      <td id=\"T_f823b_row4_col6\" class=\"data row4 col6\" >20.742999</td>\n",
       "    </tr>\n",
       "    <tr>\n",
       "      <th id=\"T_f823b_level0_row5\" class=\"row_heading level0 row5\" >50%</th>\n",
       "      <td id=\"T_f823b_row5_col0\" class=\"data row5 col0\" >43.321001</td>\n",
       "      <td id=\"T_f823b_row5_col1\" class=\"data row5 col1\" >45.284001</td>\n",
       "      <td id=\"T_f823b_row5_col2\" class=\"data row5 col2\" >41.684000</td>\n",
       "      <td id=\"T_f823b_row5_col3\" class=\"data row5 col3\" >43.964666</td>\n",
       "      <td id=\"T_f823b_row5_col4\" class=\"data row5 col4\" >43.964666</td>\n",
       "      <td id=\"T_f823b_row5_col5\" class=\"data row5 col5\" >102718950.000000</td>\n",
       "      <td id=\"T_f823b_row5_col6\" class=\"data row5 col6\" >49.729000</td>\n",
       "    </tr>\n",
       "    <tr>\n",
       "      <th id=\"T_f823b_level0_row6\" class=\"row_heading level0 row6\" >75%</th>\n",
       "      <td id=\"T_f823b_row6_col0\" class=\"data row6 col0\" >229.904167</td>\n",
       "      <td id=\"T_f823b_row6_col1\" class=\"data row6 col1\" >235.590832</td>\n",
       "      <td id=\"T_f823b_row6_col2\" class=\"data row6 col2\" >224.354996</td>\n",
       "      <td id=\"T_f823b_row6_col3\" class=\"data row6 col3\" >231.299164</td>\n",
       "      <td id=\"T_f823b_row6_col4\" class=\"data row6 col4\" >231.299164</td>\n",
       "      <td id=\"T_f823b_row6_col5\" class=\"data row6 col5\" >154047375.000000</td>\n",
       "      <td id=\"T_f823b_row6_col6\" class=\"data row6 col6\" >234.080834</td>\n",
       "    </tr>\n",
       "    <tr>\n",
       "      <th id=\"T_f823b_level0_row7\" class=\"row_heading level0 row7\" >max</th>\n",
       "      <td id=\"T_f823b_row7_col0\" class=\"data row7 col0\" >411.470001</td>\n",
       "      <td id=\"T_f823b_row7_col1\" class=\"data row7 col1\" >414.496674</td>\n",
       "      <td id=\"T_f823b_row7_col2\" class=\"data row7 col2\" >405.666656</td>\n",
       "      <td id=\"T_f823b_row7_col3\" class=\"data row7 col3\" >409.970001</td>\n",
       "      <td id=\"T_f823b_row7_col4\" class=\"data row7 col4\" >409.970001</td>\n",
       "      <td id=\"T_f823b_row7_col5\" class=\"data row7 col5\" >914082000.000000</td>\n",
       "      <td id=\"T_f823b_row7_col6\" class=\"data row7 col6\" >409.970001</td>\n",
       "    </tr>\n",
       "  </tbody>\n",
       "</table>\n"
      ],
      "text/plain": [
       "<pandas.io.formats.style.Styler at 0x109c42aa0>"
      ]
     },
     "execution_count": 8,
     "metadata": {},
     "output_type": "execute_result"
    }
   ],
   "source": [
    "data.describe().style.background_gradient(cmap=\"OrRd\")"
   ]
  },
  {
   "cell_type": "markdown",
   "id": "32c35a0c-2c48-49c1-b811-9e3fa26acbdb",
   "metadata": {},
   "source": [
    "## Dataset"
   ]
  },
  {
   "cell_type": "code",
   "execution_count": 9,
   "id": "b4037e1a-73de-47cd-846f-bd1f6705ba62",
   "metadata": {},
   "outputs": [],
   "source": [
    "class SequenceDataset(Dataset):\n",
    "    def __init__(self, dataframe, target, features, sequence_length=5):\n",
    "        self.features = features\n",
    "        self.target = target\n",
    "        self.sequence_length = sequence_length\n",
    "        self.y = torch.tensor(dataframe[target].values).float()\n",
    "        self.X = torch.tensor(dataframe[features].values).float()\n",
    "\n",
    "    def __len__(self):\n",
    "        return self.X.shape[0]\n",
    "\n",
    "    def __getitem__(self, i):\n",
    "        if i >= self.sequence_length - 1:\n",
    "            i_start = i - self.sequence_length + 1\n",
    "            x = self.X[i_start : (i + 1), :]\n",
    "        else:\n",
    "            padding = self.X[0].repeat(self.sequence_length - i - 1, 1)\n",
    "            x = self.X[0 : (i + 1), :]\n",
    "            x = torch.cat((padding, x), 0)\n",
    "\n",
    "        return x, self.y[i]"
   ]
  },
  {
   "cell_type": "markdown",
   "id": "05e28e62-5713-44f1-bccf-fe802fe363f5",
   "metadata": {},
   "source": [
    "## Create the datasets and data loaders"
   ]
  },
  {
   "cell_type": "code",
   "execution_count": 10,
   "id": "3cad3faa-1393-4151-b433-e3312ba9b937",
   "metadata": {},
   "outputs": [
    {
     "name": "stdout",
     "output_type": "stream",
     "text": [
      "Features shape: torch.Size([4, 30, 5])\n",
      "Target shape: torch.Size([4])\n"
     ]
    }
   ],
   "source": [
    "torch.manual_seed(43)\n",
    "\n",
    "batch_size = 4\n",
    "sequence_length = 30\n",
    "\n",
    "train_dataset = SequenceDataset(\n",
    "    df_train, target=target, features=features, sequence_length=sequence_length\n",
    ")\n",
    "test_dataset = SequenceDataset(\n",
    "    df_test, target=target, features=features, sequence_length=sequence_length\n",
    ")\n",
    "\n",
    "train_loader = DataLoader(train_dataset, batch_size=batch_size, shuffle=True)\n",
    "test_loader = DataLoader(test_dataset, batch_size=batch_size, shuffle=False)\n",
    "\n",
    "X, y = next(iter(train_loader))\n",
    "\n",
    "print(\"Features shape:\", X.shape)\n",
    "print(\"Target shape:\", y.shape)"
   ]
  },
  {
   "cell_type": "markdown",
   "id": "5e267d5f-f34f-4eff-be4a-b9afbf13f1fc",
   "metadata": {},
   "source": [
    "## Long Short-Term Memory (LSTM)"
   ]
  },
  {
   "cell_type": "code",
   "execution_count": 11,
   "id": "43827332-041a-44b0-a8be-f7b683859e75",
   "metadata": {},
   "outputs": [],
   "source": [
    "class ShallowRegressionLSTM(nn.Module):\n",
    "    def __init__(self, num_inputs, hidden_units):\n",
    "        super().__init__()\n",
    "        self.num_inputs = num_inputs  # this is the number of features\n",
    "        self.hidden_units = hidden_units\n",
    "        self.num_layers = 1\n",
    "\n",
    "        self.lstm = nn.LSTM(\n",
    "            input_size=num_inputs,\n",
    "            hidden_size=hidden_units,\n",
    "            batch_first=True,\n",
    "            num_layers=self.num_layers,\n",
    "        )\n",
    "\n",
    "        self.linear = nn.Linear(in_features=self.hidden_units, out_features=1)\n",
    "\n",
    "    def forward(self, x):\n",
    "        batch_size = x.shape[0]\n",
    "        h0 = torch.zeros(\n",
    "            self.num_layers, batch_size, self.hidden_units\n",
    "        ).requires_grad_()\n",
    "        c0 = torch.zeros(\n",
    "            self.num_layers, batch_size, self.hidden_units\n",
    "        ).requires_grad_()\n",
    "\n",
    "        _, (hn, _) = self.lstm(x, (h0, c0))\n",
    "        out = self.linear(\n",
    "            hn[0]\n",
    "        ).flatten()  # First dim of Hn is num_layers, which is set to 1 above.\n",
    "\n",
    "        return out"
   ]
  },
  {
   "cell_type": "markdown",
   "id": "66512d91-446e-4538-889c-cc8f4b9866e8",
   "metadata": {},
   "source": [
    "## Hyperparameters"
   ]
  },
  {
   "cell_type": "code",
   "execution_count": 12,
   "id": "ad1a4161-3f21-41b1-ae18-cc605b8760eb",
   "metadata": {},
   "outputs": [],
   "source": [
    "learning_rate = 0.01\n",
    "num_hidden_units = 16\n",
    "epochs = 11\n",
    "\n",
    "model = ShallowRegressionLSTM(num_inputs=len(features), hidden_units=num_hidden_units)\n",
    "loss_function = nn.MSELoss()\n",
    "optimizer = torch.optim.Adam(model.parameters(), lr=learning_rate)"
   ]
  },
  {
   "cell_type": "markdown",
   "id": "277ea0b1-552c-4f69-81ae-e605401d4daa",
   "metadata": {},
   "source": [
    "## Training"
   ]
  },
  {
   "cell_type": "code",
   "execution_count": 13,
   "id": "3dd9113e-4e13-403e-858d-bf34a188284c",
   "metadata": {},
   "outputs": [
    {
     "name": "stdout",
     "output_type": "stream",
     "text": [
      "Untrained test\n",
      "--------\n",
      "Test loss: 6.35\n",
      "\n",
      "Epoch 1/11\n",
      "---------\n",
      "Train loss: 0.05\n",
      "Test loss: 0.49\n",
      "\n",
      "Epoch 2/11\n",
      "---------\n",
      "Train loss: 0.03\n",
      "Test loss: 0.24\n",
      "\n",
      "Epoch 3/11\n",
      "---------\n",
      "Train loss: 0.02\n",
      "Test loss: 0.80\n",
      "\n",
      "Epoch 4/11\n",
      "---------\n",
      "Train loss: 0.03\n",
      "Test loss: 0.81\n",
      "\n",
      "Epoch 5/11\n",
      "---------\n",
      "Train loss: 0.02\n",
      "Test loss: 0.58\n",
      "\n",
      "Epoch 6/11\n",
      "---------\n",
      "Train loss: 0.02\n",
      "Test loss: 0.69\n",
      "\n",
      "Epoch 7/11\n",
      "---------\n",
      "Train loss: 0.02\n",
      "Test loss: 0.68\n",
      "\n",
      "Epoch 8/11\n",
      "---------\n",
      "Train loss: 0.02\n",
      "Test loss: 0.58\n",
      "\n",
      "Epoch 9/11\n",
      "---------\n",
      "Train loss: 0.02\n",
      "Test loss: 0.51\n",
      "\n",
      "Epoch 10/11\n",
      "---------\n",
      "Train loss: 0.02\n",
      "Test loss: 0.72\n",
      "\n",
      "Epoch 11/11\n",
      "---------\n",
      "Train loss: 0.04\n",
      "Test loss: 0.51\n",
      "\n"
     ]
    }
   ],
   "source": [
    "def train_model(data_loader, model, loss_function, optimizer):\n",
    "    num_batches = len(data_loader)\n",
    "    total_loss = 0\n",
    "    model.train()\n",
    "\n",
    "    for X, y in data_loader:\n",
    "        output = model(X)\n",
    "        loss = loss_function(output, y)\n",
    "\n",
    "        optimizer.zero_grad()\n",
    "        loss.backward()\n",
    "        optimizer.step()\n",
    "\n",
    "        total_loss += loss.item()\n",
    "\n",
    "    avg_loss = total_loss / num_batches\n",
    "    print(f\"Train loss: {avg_loss:.2f}\")\n",
    "\n",
    "\n",
    "def test_model(data_loader, model, loss_function):\n",
    "    num_batches = len(data_loader)\n",
    "    total_loss = 0\n",
    "\n",
    "    model.eval()\n",
    "    with torch.no_grad():\n",
    "        for X, y in data_loader:\n",
    "            output = model(X)\n",
    "            total_loss += loss_function(output, y).item()\n",
    "\n",
    "    avg_loss = total_loss / num_batches\n",
    "    print(f\"Test loss: {avg_loss:.2f}\")\n",
    "\n",
    "\n",
    "print(\"Untrained test\\n--------\")\n",
    "test_model(test_loader, model, loss_function)\n",
    "print()\n",
    "\n",
    "for ix_epoch in range(epochs):\n",
    "    print(f\"Epoch {ix_epoch + 1}/{epochs}\\n---------\")\n",
    "    train_model(train_loader, model, loss_function, optimizer=optimizer)\n",
    "    test_model(test_loader, model, loss_function)\n",
    "    print()"
   ]
  },
  {
   "cell_type": "markdown",
   "id": "371fd0f2-b6a6-4c4a-a0e2-c2d6e2a164bb",
   "metadata": {},
   "source": [
    "## Evaluation"
   ]
  },
  {
   "cell_type": "code",
   "execution_count": 14,
   "id": "cb659dcb-1e7a-4a05-90e3-30298dac29f6",
   "metadata": {},
   "outputs": [
    {
     "name": "stdout",
     "output_type": "stream",
     "text": [
      "            Adj Close_lead15  Model forecast\n",
      "Date                                        \n",
      "2017-09-18         22.862667       22.939064\n",
      "2017-09-19         23.705999       22.644890\n",
      "2017-09-20         23.639999       22.343327\n",
      "2017-09-21         23.712000       22.486233\n",
      "2017-09-22         23.704666       22.846504\n",
      "...                      ...             ...\n",
      "2022-08-19        304.420013      256.252258\n",
      "2022-08-22        292.130005      254.793762\n",
      "2022-08-23        302.609985      256.164734\n",
      "2022-08-24        303.750000      256.751495\n",
      "2022-08-25        303.350006      256.510437\n",
      "\n",
      "[1244 rows x 2 columns]\n"
     ]
    }
   ],
   "source": [
    "def predict(data_loader, model):\n",
    "\n",
    "    output = torch.tensor([])\n",
    "    model.eval()\n",
    "    with torch.no_grad():\n",
    "        for X, _ in data_loader:\n",
    "            y_star = model(X)\n",
    "            output = torch.cat((output, y_star), 0)\n",
    "\n",
    "    return output\n",
    "\n",
    "\n",
    "train_eval_loader = DataLoader(train_dataset, batch_size=batch_size, shuffle=False)\n",
    "\n",
    "ystar_col = \"Model forecast\"\n",
    "df_train[ystar_col] = predict(train_eval_loader, model).numpy()\n",
    "df_test[ystar_col] = predict(test_loader, model).numpy()\n",
    "\n",
    "df_out = pd.concat((df_train, df_test))[[target, ystar_col]]\n",
    "\n",
    "for c in df_out.columns:\n",
    "    df_out[c] = df_out[c] * target_stdev + target_mean\n",
    "\n",
    "print(df_out)"
   ]
  },
  {
   "cell_type": "markdown",
   "id": "d8fe2ca1-4d4a-42e9-806a-06a4f304125d",
   "metadata": {},
   "source": [
    "### Plot the losses"
   ]
  },
  {
   "cell_type": "code",
   "execution_count": 15,
   "id": "6ae22c15-43bc-4eda-b85a-c53e4b5041be",
   "metadata": {
    "colab": {
     "base_uri": "https://localhost:8080/",
     "height": 265
    },
    "id": "Dwz9DT1qMuiY",
    "outputId": "a39a6e28-748b-4657-f7cc-405252298ddc"
   },
   "outputs": [
    {
     "data": {
      "image/png": "[encoded data removed]",
      "text/plain": [
       "<Figure size 640x480 with 1 Axes>"
      ]
     },
     "metadata": {},
     "output_type": "display_data"
    }
   ],
   "source": [
    "plt.plot(df_out[\"Adj Close_lead15\"], label=\"Actual value\")\n",
    "plt.plot(df_out[\"Model forecast\"], label=\"Predict value\")\n",
    "plt.ylabel(\"Price\")\n",
    "plt.legend()\n",
    "plt.show()"
   ]
  }
 ],
 "metadata": {
  "kernelspec": {
   "display_name": "Python 3 (ipykernel)",
   "language": "python",
   "name": "python3"
  },
  "language_info": {
   "codemirror_mode": {
    "name": "ipython",
    "version": 3
   },
   "file_extension": ".py",
   "mimetype": "text/x-python",
   "name": "python",
   "nbconvert_exporter": "python",
   "pygments_lexer": "ipython3",
   "version": "3.10.6"
  }
 },
 "nbformat": 4,
 "nbformat_minor": 5
}
